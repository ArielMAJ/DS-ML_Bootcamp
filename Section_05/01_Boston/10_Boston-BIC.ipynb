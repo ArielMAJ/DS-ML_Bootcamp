{
 "cells": [
  {
   "cell_type": "code",
   "execution_count": 1,
   "id": "4b343ea9-7935-4426-b960-dac555d834d1",
   "metadata": {
    "tags": []
   },
   "outputs": [
    {
     "name": "stderr",
     "output_type": "stream",
     "text": [
      "C:\\Users\\ariel\\anaconda3\\envs\\RPy\\lib\\site-packages\\statsmodels\\compat\\pandas.py:61: FutureWarning: pandas.Int64Index is deprecated and will be removed from pandas in a future version. Use pandas.Index with the appropriate dtype instead.\n",
      "  from pandas import Int64Index as NumericIndex\n"
     ]
    }
   ],
   "source": [
    "from sklearn.model_selection import train_test_split\n",
    "\n",
    "import pandas as pd\n",
    "import numpy as np\n",
    "\n",
    "import statsmodels.api as sm\n",
    "from statsmodels.stats.outliers_influence import variance_inflation_factor"
   ]
  },
  {
   "cell_type": "code",
   "execution_count": 2,
   "id": "56e151d5-a711-45b9-8af9-c68cceec64d3",
   "metadata": {},
   "outputs": [],
   "source": [
    "import load\n",
    "data = load.boston()"
   ]
  },
  {
   "cell_type": "code",
   "execution_count": 3,
   "id": "73f7e7a6-29a7-4c6b-b242-ca50183a3f2f",
   "metadata": {},
   "outputs": [],
   "source": [
    "X_train, X_test, y_train, y_test = train_test_split(data.drop('PRICE', axis=1), np.log(data['PRICE']), test_size=0.2, random_state=10)\n",
    "x_incl_const = sm.add_constant(X_train)\n",
    "\n",
    "model = sm.OLS(y_train, x_incl_const)\n",
    "results = model.fit()"
   ]
  },
  {
   "cell_type": "code",
   "execution_count": 4,
   "id": "a0fa37f4-838d-47e3-85f4-332e12010a0e",
   "metadata": {},
   "outputs": [
    {
     "data": {
      "text/html": [
       "<div>\n",
       "<style scoped>\n",
       "    .dataframe tbody tr th:only-of-type {\n",
       "        vertical-align: middle;\n",
       "    }\n",
       "\n",
       "    .dataframe tbody tr th {\n",
       "        vertical-align: top;\n",
       "    }\n",
       "\n",
       "    .dataframe thead th {\n",
       "        text-align: right;\n",
       "    }\n",
       "</style>\n",
       "<table border=\"1\" class=\"dataframe\">\n",
       "  <thead>\n",
       "    <tr style=\"text-align: right;\">\n",
       "      <th></th>\n",
       "      <th>coef</th>\n",
       "      <th>p-value</th>\n",
       "    </tr>\n",
       "  </thead>\n",
       "  <tbody>\n",
       "    <tr>\n",
       "      <th>const</th>\n",
       "      <td>4.059944</td>\n",
       "      <td>0.000</td>\n",
       "    </tr>\n",
       "    <tr>\n",
       "      <th>CRIM</th>\n",
       "      <td>-0.010672</td>\n",
       "      <td>0.000</td>\n",
       "    </tr>\n",
       "    <tr>\n",
       "      <th>ZN</th>\n",
       "      <td>0.001579</td>\n",
       "      <td>0.009</td>\n",
       "    </tr>\n",
       "    <tr>\n",
       "      <th>INDUS</th>\n",
       "      <td>0.002030</td>\n",
       "      <td>0.445</td>\n",
       "    </tr>\n",
       "    <tr>\n",
       "      <th>CHAS</th>\n",
       "      <td>0.080331</td>\n",
       "      <td>0.038</td>\n",
       "    </tr>\n",
       "    <tr>\n",
       "      <th>NOX</th>\n",
       "      <td>-0.704068</td>\n",
       "      <td>0.000</td>\n",
       "    </tr>\n",
       "    <tr>\n",
       "      <th>RM</th>\n",
       "      <td>0.073404</td>\n",
       "      <td>0.000</td>\n",
       "    </tr>\n",
       "    <tr>\n",
       "      <th>AGE</th>\n",
       "      <td>0.000763</td>\n",
       "      <td>0.209</td>\n",
       "    </tr>\n",
       "    <tr>\n",
       "      <th>DIS</th>\n",
       "      <td>-0.047633</td>\n",
       "      <td>0.000</td>\n",
       "    </tr>\n",
       "    <tr>\n",
       "      <th>RAD</th>\n",
       "      <td>0.014565</td>\n",
       "      <td>0.000</td>\n",
       "    </tr>\n",
       "    <tr>\n",
       "      <th>TAX</th>\n",
       "      <td>-0.000645</td>\n",
       "      <td>0.000</td>\n",
       "    </tr>\n",
       "    <tr>\n",
       "      <th>PTRATIO</th>\n",
       "      <td>-0.034795</td>\n",
       "      <td>0.000</td>\n",
       "    </tr>\n",
       "    <tr>\n",
       "      <th>B</th>\n",
       "      <td>0.000516</td>\n",
       "      <td>0.000</td>\n",
       "    </tr>\n",
       "    <tr>\n",
       "      <th>LSTAT</th>\n",
       "      <td>-0.031390</td>\n",
       "      <td>0.000</td>\n",
       "    </tr>\n",
       "  </tbody>\n",
       "</table>\n",
       "</div>"
      ],
      "text/plain": [
       "             coef  p-value\n",
       "const    4.059944    0.000\n",
       "CRIM    -0.010672    0.000\n",
       "ZN       0.001579    0.009\n",
       "INDUS    0.002030    0.445\n",
       "CHAS     0.080331    0.038\n",
       "NOX     -0.704068    0.000\n",
       "RM       0.073404    0.000\n",
       "AGE      0.000763    0.209\n",
       "DIS     -0.047633    0.000\n",
       "RAD      0.014565    0.000\n",
       "TAX     -0.000645    0.000\n",
       "PTRATIO -0.034795    0.000\n",
       "B        0.000516    0.000\n",
       "LSTAT   -0.031390    0.000"
      ]
     },
     "execution_count": 4,
     "metadata": {},
     "output_type": "execute_result"
    }
   ],
   "source": [
    "org_coef = pd.DataFrame({'coef': results.params, 'p-value': round(results.pvalues, 3)})\n",
    "org_coef"
   ]
  },
  {
   "cell_type": "code",
   "execution_count": 5,
   "id": "20dd4efd-69e9-4497-8dfc-fd31af3a0dca",
   "metadata": {},
   "outputs": [
    {
     "data": {
      "text/plain": [
       "(0.7930234826697584, -139.74997769478898)"
      ]
     },
     "execution_count": 5,
     "metadata": {},
     "output_type": "execute_result"
    }
   ],
   "source": [
    "results.rsquared, results.bic"
   ]
  },
  {
   "cell_type": "code",
   "execution_count": 6,
   "id": "26e3cb88-4f33-401c-a9ae-5e7572789781",
   "metadata": {},
   "outputs": [
    {
     "data": {
      "text/plain": [
       "(0.7927126289415162, -145.1450885559114)"
      ]
     },
     "execution_count": 6,
     "metadata": {},
     "output_type": "execute_result"
    }
   ],
   "source": [
    "# Reduced model #1 excluding INDUS\n",
    "x_incl_const = sm.add_constant(X_train)\n",
    "x_incl_const = x_incl_const.drop([\"INDUS\"], axis=1)\n",
    "\n",
    "model = sm.OLS(y_train, x_incl_const)\n",
    "results = model.fit()\n",
    "\n",
    "coef_minus_indus = pd.DataFrame({'coef': results.params, 'p-value': round(results.pvalues, 3)})\n",
    "\n",
    "results.rsquared, results.bic"
   ]
  },
  {
   "cell_type": "code",
   "execution_count": 7,
   "id": "e6ee1a95-a346-46d6-9a4e-362fbbb50f5b",
   "metadata": {},
   "outputs": [
    {
     "data": {
      "text/plain": [
       "(0.7918657661852815, -149.49934294224656)"
      ]
     },
     "execution_count": 7,
     "metadata": {},
     "output_type": "execute_result"
    }
   ],
   "source": [
    "# Reduced model #2 excluding INDUS and AGE\n",
    "x_incl_const = sm.add_constant(X_train)\n",
    "x_incl_const = x_incl_const.drop([\"INDUS\", \"AGE\"], axis=1)\n",
    "\n",
    "model = sm.OLS(y_train, x_incl_const)\n",
    "results = model.fit()\n",
    "\n",
    "reduced_coef = pd.DataFrame({'coef': results.params, 'p-value': round(results.pvalues, 3)})\n",
    "\n",
    "results.rsquared, results.bic # Smaller bic is better"
   ]
  },
  {
   "cell_type": "code",
   "execution_count": 8,
   "id": "a38cec52-4701-4041-aebe-bb5c6956c2f2",
   "metadata": {},
   "outputs": [
    {
     "data": {
      "text/html": [
       "<div>\n",
       "<style scoped>\n",
       "    .dataframe tbody tr th:only-of-type {\n",
       "        vertical-align: middle;\n",
       "    }\n",
       "\n",
       "    .dataframe tbody tr th {\n",
       "        vertical-align: top;\n",
       "    }\n",
       "\n",
       "    .dataframe thead th {\n",
       "        text-align: right;\n",
       "    }\n",
       "</style>\n",
       "<table border=\"1\" class=\"dataframe\">\n",
       "  <thead>\n",
       "    <tr style=\"text-align: right;\">\n",
       "      <th></th>\n",
       "      <th>coef</th>\n",
       "      <th>p-value</th>\n",
       "      <th>coef</th>\n",
       "      <th>p-value</th>\n",
       "      <th>coef</th>\n",
       "      <th>p-value</th>\n",
       "    </tr>\n",
       "  </thead>\n",
       "  <tbody>\n",
       "    <tr>\n",
       "      <th>const</th>\n",
       "      <td>4.059944</td>\n",
       "      <td>0.000</td>\n",
       "      <td>4.056231</td>\n",
       "      <td>0.000</td>\n",
       "      <td>4.035922</td>\n",
       "      <td>0.000</td>\n",
       "    </tr>\n",
       "    <tr>\n",
       "      <th>CRIM</th>\n",
       "      <td>-0.010672</td>\n",
       "      <td>0.000</td>\n",
       "      <td>-0.010721</td>\n",
       "      <td>0.000</td>\n",
       "      <td>-0.010702</td>\n",
       "      <td>0.000</td>\n",
       "    </tr>\n",
       "    <tr>\n",
       "      <th>ZN</th>\n",
       "      <td>0.001579</td>\n",
       "      <td>0.009</td>\n",
       "      <td>0.001551</td>\n",
       "      <td>0.010</td>\n",
       "      <td>0.001461</td>\n",
       "      <td>0.014</td>\n",
       "    </tr>\n",
       "    <tr>\n",
       "      <th>INDUS</th>\n",
       "      <td>0.002030</td>\n",
       "      <td>0.445</td>\n",
       "      <td>NaN</td>\n",
       "      <td>NaN</td>\n",
       "      <td>NaN</td>\n",
       "      <td>NaN</td>\n",
       "    </tr>\n",
       "    <tr>\n",
       "      <th>CHAS</th>\n",
       "      <td>0.080331</td>\n",
       "      <td>0.038</td>\n",
       "      <td>0.082795</td>\n",
       "      <td>0.032</td>\n",
       "      <td>0.086449</td>\n",
       "      <td>0.025</td>\n",
       "    </tr>\n",
       "    <tr>\n",
       "      <th>NOX</th>\n",
       "      <td>-0.704068</td>\n",
       "      <td>0.000</td>\n",
       "      <td>-0.673365</td>\n",
       "      <td>0.000</td>\n",
       "      <td>-0.616448</td>\n",
       "      <td>0.000</td>\n",
       "    </tr>\n",
       "    <tr>\n",
       "      <th>RM</th>\n",
       "      <td>0.073404</td>\n",
       "      <td>0.000</td>\n",
       "      <td>0.071739</td>\n",
       "      <td>0.000</td>\n",
       "      <td>0.076133</td>\n",
       "      <td>0.000</td>\n",
       "    </tr>\n",
       "    <tr>\n",
       "      <th>AGE</th>\n",
       "      <td>0.000763</td>\n",
       "      <td>0.209</td>\n",
       "      <td>0.000766</td>\n",
       "      <td>0.207</td>\n",
       "      <td>NaN</td>\n",
       "      <td>NaN</td>\n",
       "    </tr>\n",
       "    <tr>\n",
       "      <th>DIS</th>\n",
       "      <td>-0.047633</td>\n",
       "      <td>0.000</td>\n",
       "      <td>-0.049394</td>\n",
       "      <td>0.000</td>\n",
       "      <td>-0.052692</td>\n",
       "      <td>0.000</td>\n",
       "    </tr>\n",
       "    <tr>\n",
       "      <th>RAD</th>\n",
       "      <td>0.014565</td>\n",
       "      <td>0.000</td>\n",
       "      <td>0.014014</td>\n",
       "      <td>0.000</td>\n",
       "      <td>0.013743</td>\n",
       "      <td>0.000</td>\n",
       "    </tr>\n",
       "    <tr>\n",
       "      <th>TAX</th>\n",
       "      <td>-0.000645</td>\n",
       "      <td>0.000</td>\n",
       "      <td>-0.000596</td>\n",
       "      <td>0.000</td>\n",
       "      <td>-0.000590</td>\n",
       "      <td>0.000</td>\n",
       "    </tr>\n",
       "    <tr>\n",
       "      <th>PTRATIO</th>\n",
       "      <td>-0.034795</td>\n",
       "      <td>0.000</td>\n",
       "      <td>-0.034126</td>\n",
       "      <td>0.000</td>\n",
       "      <td>-0.033481</td>\n",
       "      <td>0.000</td>\n",
       "    </tr>\n",
       "    <tr>\n",
       "      <th>B</th>\n",
       "      <td>0.000516</td>\n",
       "      <td>0.000</td>\n",
       "      <td>0.000511</td>\n",
       "      <td>0.000</td>\n",
       "      <td>0.000518</td>\n",
       "      <td>0.000</td>\n",
       "    </tr>\n",
       "    <tr>\n",
       "      <th>LSTAT</th>\n",
       "      <td>-0.031390</td>\n",
       "      <td>0.000</td>\n",
       "      <td>-0.031262</td>\n",
       "      <td>0.000</td>\n",
       "      <td>-0.030271</td>\n",
       "      <td>0.000</td>\n",
       "    </tr>\n",
       "  </tbody>\n",
       "</table>\n",
       "</div>"
      ],
      "text/plain": [
       "             coef  p-value      coef  p-value      coef  p-value\n",
       "const    4.059944    0.000  4.056231    0.000  4.035922    0.000\n",
       "CRIM    -0.010672    0.000 -0.010721    0.000 -0.010702    0.000\n",
       "ZN       0.001579    0.009  0.001551    0.010  0.001461    0.014\n",
       "INDUS    0.002030    0.445       NaN      NaN       NaN      NaN\n",
       "CHAS     0.080331    0.038  0.082795    0.032  0.086449    0.025\n",
       "NOX     -0.704068    0.000 -0.673365    0.000 -0.616448    0.000\n",
       "RM       0.073404    0.000  0.071739    0.000  0.076133    0.000\n",
       "AGE      0.000763    0.209  0.000766    0.207       NaN      NaN\n",
       "DIS     -0.047633    0.000 -0.049394    0.000 -0.052692    0.000\n",
       "RAD      0.014565    0.000  0.014014    0.000  0.013743    0.000\n",
       "TAX     -0.000645    0.000 -0.000596    0.000 -0.000590    0.000\n",
       "PTRATIO -0.034795    0.000 -0.034126    0.000 -0.033481    0.000\n",
       "B        0.000516    0.000  0.000511    0.000  0.000518    0.000\n",
       "LSTAT   -0.031390    0.000 -0.031262    0.000 -0.030271    0.000"
      ]
     },
     "execution_count": 8,
     "metadata": {},
     "output_type": "execute_result"
    }
   ],
   "source": [
    "frames = [org_coef, coef_minus_indus, reduced_coef]\n",
    "pd.concat(frames, axis=1)"
   ]
  }
 ],
 "metadata": {
  "kernelspec": {
   "display_name": "Python 3 (ipykernel)",
   "language": "python",
   "name": "python3"
  },
  "language_info": {
   "codemirror_mode": {
    "name": "ipython",
    "version": 3
   },
   "file_extension": ".py",
   "mimetype": "text/x-python",
   "name": "python",
   "nbconvert_exporter": "python",
   "pygments_lexer": "ipython3",
   "version": "3.10.0"
  }
 },
 "nbformat": 4,
 "nbformat_minor": 5
}
